{
 "cells": [
  {
   "cell_type": "markdown",
   "metadata": {},
   "source": [
    "# Lab Three\n",
    "---\n",
    "\n",
    "Ok for this lab we're going to reiterate a lot of the things that we went over in class.\n",
    "\n",
    "Our Goals are:\n",
    "- Understanding Variable Types\n",
    "- Defining Variables\n",
    "- Using Conditionals\n",
    "- Using Loops\n",
    "- Creating Objects\n",
    "- Writing a function\n"
   ]
  },
  {
   "cell_type": "markdown",
   "metadata": {},
   "source": [
    "## What's the difference between Null and undefined?"
   ]
  },
  {
   "cell_type": "markdown",
   "metadata": {},
   "source": [
    "When we use Null we purposely give an object no value. When Undefined is \n",
    "used there is an oject being declared that has not been defined.    "
   ]
  },
  {
   "cell_type": "markdown",
   "metadata": {},
   "source": [
    "## List the 3 Variable Types and Use Them!"
   ]
  },
  {
   "cell_type": "code",
   "execution_count": null,
   "metadata": {},
   "outputs": [],
   "source": [
    "#Var (can be redefined)\n",
    "\n",
    "var myName = \"Gabriella\";\n",
    "console.log(myName);"
   ]
  },
  {
   "cell_type": "code",
   "execution_count": null,
   "metadata": {},
   "outputs": [],
   "source": [
    "#Let(does not let you redeclare)\n",
    "\n",
    "let myName = \"Gabriella\";"
   ]
  },
  {
   "cell_type": "code",
   "execution_count": null,
   "metadata": {},
   "outputs": [],
   "source": [
    "#Const (lets you declare a constant that you dont want to change)\n",
    "\n",
    "const myNameConst = \"Gabriella\""
   ]
  },
  {
   "cell_type": "markdown",
   "metadata": {},
   "source": [
    "## Use an If/Else If/Else Statement and a Switch Case statement"
   ]
  },
  {
   "cell_type": "code",
   "execution_count": 11,
   "metadata": {},
   "outputs": [
    {
     "name": "stdout",
     "output_type": "stream",
     "text": [
      "I like Red\n"
     ]
    }
   ],
   "source": [
    "var orange = 10;\n",
    "var red = 20;\n",
    "\n",
    "if (orange == 20) {\n",
    "    console.log(\"I like Orange\");\n",
    "} else if (red ==20) {\n",
    "    console.log(\"I like Red\");\n",
    "} else {\n",
    "    console.log(\"I dont like either Red or Orange\")\n",
    "}"
   ]
  },
  {
   "cell_type": "code",
   "execution_count": 12,
   "metadata": {},
   "outputs": [
    {
     "name": "stdout",
     "output_type": "stream",
     "text": [
      "How are you?\n"
     ]
    }
   ],
   "source": [
    "let starter = \"Hello\"\n",
    "switch (starter) {\n",
    "    case \"Bye\":\n",
    "        console.log(\"Have a good day\")\n",
    "        break;\n",
    "    case \"Hi\":\n",
    "        console.log(\"Hello\")\n",
    "        break;\n",
    "    case \"Hello\":\n",
    "        console.log(\"How are you?\")\n",
    "        break;\n",
    "    default:\n",
    "        console.log(\"Goodbye\")\n",
    "        break;\n",
    "}"
   ]
  },
  {
   "cell_type": "markdown",
   "metadata": {},
   "source": [
    "## Use a For and a While Loop"
   ]
  },
  {
   "cell_type": "code",
   "execution_count": 16,
   "metadata": {},
   "outputs": [
    {
     "name": "stdout",
     "output_type": "stream",
     "text": [
      "HI\n",
      "HI\n",
      "HI\n",
      "HI\n",
      "HI\n"
     ]
    }
   ],
   "source": [
    "for (var i=0; i <= 4; i++){\n",
    "    console.log(\"HI\");\n",
    "}"
   ]
  },
  {
   "cell_type": "code",
   "execution_count": 28,
   "metadata": {},
   "outputs": [
    {
     "name": "stdout",
     "output_type": "stream",
     "text": [
      "The number is 7\n",
      "The number is 8\n",
      "The number is 9\n"
     ]
    },
    {
     "data": {
      "text/plain": [
       "9"
      ]
     },
     "execution_count": 28,
     "metadata": {},
     "output_type": "execute_result"
    }
   ],
   "source": [
    "var i = 7;\n",
    "while (i<10){\n",
    "    console.log(\"The number is \"+ i);\n",
    "    i++;\n",
    "}"
   ]
  },
  {
   "cell_type": "markdown",
   "metadata": {},
   "source": [
    "## Make an object!"
   ]
  },
  {
   "cell_type": "code",
   "execution_count": null,
   "metadata": {},
   "outputs": [],
   "source": [
    "let Person = {\n",
    "    firstname: \"Gabriella\",\n",
    "    lastnme: \"Nina\"\n",
    "};"
   ]
  },
  {
   "cell_type": "code",
   "execution_count": 68,
   "metadata": {},
   "outputs": [
    {
     "data": {
      "text/plain": [
       "'Gabriella'"
      ]
     },
     "execution_count": 68,
     "metadata": {},
     "output_type": "execute_result"
    }
   ],
   "source": [
    "Person.firstname;"
   ]
  },
  {
   "cell_type": "markdown",
   "metadata": {},
   "source": [
    "## Make a function, It can do anything!"
   ]
  },
  {
   "cell_type": "code",
   "execution_count": 42,
   "metadata": {},
   "outputs": [
    {
     "data": {
      "text/plain": [
       "6"
      ]
     },
     "execution_count": 42,
     "metadata": {},
     "output_type": "execute_result"
    }
   ],
   "source": [
    "function product(v1, v2){\n",
    "    return v1*v2;\n",
    "}\n",
    "product(3,2);\n"
   ]
  },
  {
   "cell_type": "markdown",
   "metadata": {},
   "source": [
    "## Optional: Checkout HackerRank and try a problem in Javascript"
   ]
  },
  {
   "cell_type": "code",
   "execution_count": null,
   "metadata": {},
   "outputs": [],
   "source": []
  }
 ],
 "metadata": {
  "kernelspec": {
   "display_name": "Javascript (Node.js)",
   "language": "javascript",
   "name": "javascript"
  },
  "language_info": {
   "file_extension": ".js",
   "mimetype": "application/javascript",
   "name": "javascript",
   "version": "14.17.6"
  }
 },
 "nbformat": 4,
 "nbformat_minor": 4
}
