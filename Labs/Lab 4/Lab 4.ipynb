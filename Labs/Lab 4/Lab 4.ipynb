{
 "cells": [
  {
   "cell_type": "markdown",
   "source": [
    "# Lab Four\n",
    "---\n",
    "\n",
    "Ok for this lab we're going to complete our Iteration 0.\n",
    "\n",
    "Our Goals are:\n",
    "- Introduce the team\n",
    "- Define team meeting cadence, means of communication, and scheduled activities\n",
    "- Discuss means of documentation, and development\n",
    "- Create Design Specifications\n",
    "- Create Initial Backlog\n",
    "- Assign Roles (These will change since we want every one to be in every role at some point)\n"
   ],
   "metadata": {}
  },
  {
   "cell_type": "markdown",
   "source": [
    "## First things first, what's your initial idea for the project!? \n",
    "This is allowed to change and be altered but the alterations have to be approved by the shareholder! You can't just show up with a different product than you promised. That's the quickest way to not get paid! \n",
    "\n",
    "**When you have this also put it in the Slack channel that you'll make in the next step! I may not take the first idea. The channel with me will serve as a means to communicate with each other if you so choose as well as me!**"
   ],
   "metadata": {}
  },
  {
   "cell_type": "markdown",
   "source": [
    "Decibel:\n",
    "\n",
    "Given a list of songs users will listen and vote on their favorite song from the list. Then the top 10 songs from everyones votes will be generated into a larger playlist for everyone to listen to. This option will be gloabl and local. Global meaning all the users on our website and local meaning a group of friends. "
   ],
   "metadata": {}
  },
  {
   "cell_type": "markdown",
   "source": [
    "## Once you have that come up with a team/company name! Make a slack channel with all the members of your team and Professor Kippins!\n",
    "\n",
    "\n"
   ],
   "metadata": {}
  },
  {
   "cell_type": "markdown",
   "source": [
    "## How often are we meeting for Stand ups?\n",
    "\n"
   ],
   "metadata": {}
  },
  {
   "cell_type": "markdown",
   "source": [
    "3 times a week"
   ],
   "metadata": {}
  },
  {
   "cell_type": "markdown",
   "source": [
    "## What is our iteration length? We're all locked into 2 week iterations (This ones a gimmie 😂) \n",
    "\n"
   ],
   "metadata": {}
  },
  {
   "cell_type": "markdown",
   "source": [
    "2 weeks"
   ],
   "metadata": {}
  },
  {
   "cell_type": "markdown",
   "source": [
    "## What is our preferred means of communication? (Slack, Email, Text, Zoom call?)\n",
    "\n"
   ],
   "metadata": {}
  },
  {
   "cell_type": "markdown",
   "source": [
    "text & zoom"
   ],
   "metadata": {}
  },
  {
   "cell_type": "markdown",
   "source": [
    "## What means of communication do we want for Stand Ups?\n",
    "\n"
   ],
   "metadata": {}
  },
  {
   "cell_type": "markdown",
   "source": [
    "text"
   ],
   "metadata": {}
  },
  {
   "cell_type": "markdown",
   "source": [
    "## What means of communication do we want for Iteration Planning?\n",
    "\n"
   ],
   "metadata": {}
  },
  {
   "cell_type": "markdown",
   "source": [
    "zoom"
   ],
   "metadata": {}
  },
  {
   "cell_type": "markdown",
   "source": [
    "## What means of communication do we want for Retrospectives?\n",
    "\n"
   ],
   "metadata": {}
  },
  {
   "cell_type": "markdown",
   "source": [
    "zoom"
   ],
   "metadata": {}
  },
  {
   "cell_type": "markdown",
   "source": [
    "# You need to have your project idea settled before you answer these!\n",
    "## Come up with your design specifications! What is your 1.0 release supposed to look like?\n",
    "\n"
   ],
   "metadata": {}
  },
  {
   "cell_type": "markdown",
   "source": [
    "our 1.0 will consist of the current top 10 songs as a playlist. as well as album artwork for each of the top songs listed with its title. "
   ],
   "metadata": {}
  },
  {
   "cell_type": "markdown",
   "source": [
    "## Come up with a way to manage and create an initial backlog of things to do. Put the link in your Slack Channel's description as well as here!\n",
    "\n"
   ],
   "metadata": {}
  },
  {
   "cell_type": "markdown",
   "source": [
    "we created a working branch to makes changes and developments in. Once chnages have been approved they will be pushed to the main branch. \n",
    "https://github.com/gabynina/Decible"
   ],
   "metadata": {}
  },
  {
   "cell_type": "markdown",
   "source": [
    "## What's everyone's starting role (Choose an IM and PO everyone else is Dev)"
   ],
   "metadata": {}
  },
  {
   "cell_type": "markdown",
   "source": [
    "IM: Gaby Nina \n",
    "\n",
    "PO: Genny Anderson\n",
    "\n",
    "DEV: Angie Chirichella & Kylie Wasserman "
   ],
   "metadata": {}
  }
 ],
 "metadata": {
  "orig_nbformat": 4,
  "language_info": {
   "name": "javascript",
   "version": "3.9.6"
  },
  "kernelspec": {
   "name": "javascript",
   "display_name": "Javascript (Node.js)",
   "language": "javascript"
  },
  "interpreter": {
   "hash": "aee8b7b246df8f9039afb4144a1f6fd8d2ca17a180786b69acc140d282b71a49"
  }
 },
 "nbformat": 4,
 "nbformat_minor": 2
}